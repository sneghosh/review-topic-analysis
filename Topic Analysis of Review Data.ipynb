{
 "cells": [
  {
   "cell_type": "markdown",
   "id": "e3b3844c-ea10-44e2-8c0a-61fa21539c1a",
   "metadata": {},
   "source": [
    "# Topic Analysis of Review Data."
   ]
  },
  {
   "cell_type": "markdown",
   "id": "a4fad183-1d52-4557-8801-37158fa04475",
   "metadata": {},
   "source": [
    "## DESCRIPTION"
   ]
  },
  {
   "cell_type": "markdown",
   "id": "1532503c-ec58-42f3-a02f-1fe438cf3977",
   "metadata": {},
   "source": [
    "#### Help a leading mobile brand understand the voice of the customer by analyzing the reviews of their product on Amazon and the topics that customers are talking about. You will perform topic modeling on specific parts of speech. You’ll finally interpret the emerging topics."
   ]
  },
  {
   "cell_type": "markdown",
   "id": "a5a22c7b-0c5a-40ea-afaf-60bf68618123",
   "metadata": {},
   "source": [
    "## Problem Statement:"
   ]
  },
  {
   "cell_type": "markdown",
   "id": "fc6962c9-ebee-4057-8fa0-40485c1f0f58",
   "metadata": {},
   "source": [
    "#### A popular mobile phone brand, Lenovo has launched their budget smartphone in the Indian market. The client wants to understand the VOC (voice of the customer) on the product. This will be useful to not just evaluate the current product, but to also get some direction for developing the product pipeline. The client is particularly interested in the different aspects that customers care about. Product reviews by customers on a leading e-commerce site should provide a good view."
   ]
  },
  {
   "cell_type": "markdown",
   "id": "d84492b8-ea18-4a0e-8949-2c0332076e44",
   "metadata": {},
   "source": [
    "#### Domain: Amazon reviews for a leading phone brand"
   ]
  },
  {
   "cell_type": "markdown",
   "id": "1dc25e8a-e428-4123-9135-53eec490f6fe",
   "metadata": {},
   "source": [
    "##### Analysis to be done: POS tagging, topic modeling using LDA, and topic interpretation\n",
    "\n"
   ]
  },
  {
   "cell_type": "markdown",
   "id": "bf4c9888-78c8-4aaa-b1ee-3ca03ec02919",
   "metadata": {},
   "source": [
    "##### Content: \n",
    "##### Dataset: ‘K8 Reviews v0.2.csv’\n",
    "##### Columns:\n",
    "##### Sentiment: The sentiment against the review (4,5 star reviews are positive, 1,2 are negative)\n",
    "##### Reviews: The main text of the review"
   ]
  },
  {
   "cell_type": "markdown",
   "id": "74f42f81-15f3-4901-af05-abcd42e5dffa",
   "metadata": {},
   "source": [
    "#### Steps to perform:\n",
    "Discover the topics in the reviews and present it to business in a consumable format. Employ techniques in syntactic processing and topic modeling.\n",
    "Perform specific cleanup, POS tagging, and restricting to relevant POS tags, then, perform topic modeling using LDA. Finally, give business-friendly names to the topics and make a table for business."
   ]
  },
  {
   "cell_type": "markdown",
   "id": "c1d130bf-8c10-4335-8407-e85ef2b76b19",
   "metadata": {},
   "source": [
    "### Tasks: "
   ]
  },
  {
   "cell_type": "markdown",
   "id": "bb321d6a-4535-469a-b4d0-21262497fc69",
   "metadata": {},
   "source": [
    "#### 1. Read the .csv file using Pandas. Take a look at the top few records."
   ]
  },
  {
   "cell_type": "code",
   "execution_count": 1,
   "id": "28048348-7e8e-47b3-974f-6ad8381bad47",
   "metadata": {},
   "outputs": [],
   "source": [
    "import warnings\n",
    "warnings.filterwarnings(\"ignore\")\n",
    "\n",
    "# Importing the usual utilities\n",
    "import numpy as np,pandas as pd\n",
    "import re,random,os,string\n",
    "\n",
    "from pprint import pprint # pretty print\n",
    "import matplotlib.pyplot as plt\n",
    "%matplotlib inline\n",
    "\n",
    "import nltk\n",
    "from nltk.tokenize import word_tokenize\n",
    "from nltk.stem import WordNetLemmatizer\n",
    "from string import punctuation\n",
    "from nltk.corpus import stopwords"
   ]
  },
  {
   "cell_type": "code",
   "execution_count": 2,
   "id": "6cdc70e9-eb6c-452a-8cbb-00d2ddab3575",
   "metadata": {},
   "outputs": [
    {
     "data": {
      "text/html": [
       "<div>\n",
       "<style scoped>\n",
       "    .dataframe tbody tr th:only-of-type {\n",
       "        vertical-align: middle;\n",
       "    }\n",
       "\n",
       "    .dataframe tbody tr th {\n",
       "        vertical-align: top;\n",
       "    }\n",
       "\n",
       "    .dataframe thead th {\n",
       "        text-align: right;\n",
       "    }\n",
       "</style>\n",
       "<table border=\"1\" class=\"dataframe\">\n",
       "  <thead>\n",
       "    <tr style=\"text-align: right;\">\n",
       "      <th></th>\n",
       "      <th>sentiment</th>\n",
       "      <th>review</th>\n",
       "    </tr>\n",
       "  </thead>\n",
       "  <tbody>\n",
       "    <tr>\n",
       "      <th>0</th>\n",
       "      <td>1</td>\n",
       "      <td>Good but need updates and improvements</td>\n",
       "    </tr>\n",
       "    <tr>\n",
       "      <th>1</th>\n",
       "      <td>0</td>\n",
       "      <td>Worst mobile i have bought ever, Battery is dr...</td>\n",
       "    </tr>\n",
       "    <tr>\n",
       "      <th>2</th>\n",
       "      <td>1</td>\n",
       "      <td>when I will get my 10% cash back.... its alrea...</td>\n",
       "    </tr>\n",
       "    <tr>\n",
       "      <th>3</th>\n",
       "      <td>1</td>\n",
       "      <td>Good</td>\n",
       "    </tr>\n",
       "    <tr>\n",
       "      <th>4</th>\n",
       "      <td>0</td>\n",
       "      <td>The worst phone everThey have changed the last...</td>\n",
       "    </tr>\n",
       "  </tbody>\n",
       "</table>\n",
       "</div>"
      ],
      "text/plain": [
       "   sentiment                                             review\n",
       "0          1             Good but need updates and improvements\n",
       "1          0  Worst mobile i have bought ever, Battery is dr...\n",
       "2          1  when I will get my 10% cash back.... its alrea...\n",
       "3          1                                               Good\n",
       "4          0  The worst phone everThey have changed the last..."
      ]
     },
     "execution_count": 2,
     "metadata": {},
     "output_type": "execute_result"
    }
   ],
   "source": [
    "reviews0=pd.read_csv('K8 Reviews v0.2.csv')\n",
    "reviews0.head()"
   ]
  },
  {
   "cell_type": "markdown",
   "id": "34b7f529-cbcc-46b6-9270-d8b561d8f00d",
   "metadata": {},
   "source": [
    "#### 2. Normalize casings for the review text and extract the text into a list for easier manipulation."
   ]
  },
  {
   "cell_type": "code",
   "execution_count": 3,
   "id": "216f8419-79d3-4463-ab27-8233bc0a5c97",
   "metadata": {},
   "outputs": [
    {
     "data": {
      "text/plain": [
       "'good but need updates and improvements'"
      ]
     },
     "execution_count": 3,
     "metadata": {},
     "output_type": "execute_result"
    }
   ],
   "source": [
    "reviews_lower=[sent.lower() for sent in reviews0.review.values]\n",
    "reviews_lower[0]"
   ]
  },
  {
   "cell_type": "markdown",
   "id": "4b8771f0-313c-40c5-ba37-15794a73cc22",
   "metadata": {},
   "source": [
    "#### 3. Tokenize the reviews using NLTKs word_tokenize function."
   ]
  },
  {
   "cell_type": "code",
   "execution_count": 4,
   "id": "0fa6b91d-072e-4c4d-931b-63ec3a701a9e",
   "metadata": {},
   "outputs": [
    {
     "data": {
      "text/plain": [
       "['good', 'but', 'need', 'updates', 'and', 'improvements']"
      ]
     },
     "execution_count": 4,
     "metadata": {},
     "output_type": "execute_result"
    }
   ],
   "source": [
    "reviews_token=[word_tokenize(sent) for sent in reviews_lower]\n",
    "reviews_token[0]"
   ]
  },
  {
   "cell_type": "markdown",
   "id": "9937d3e3-3cdb-4fc6-b644-b19b13f40f04",
   "metadata": {},
   "source": [
    "#### 4. Perform parts-of-speech tagging on each sentence using the NLTK POS tagger.\n",
    "\n"
   ]
  },
  {
   "cell_type": "code",
   "execution_count": 5,
   "id": "9da25d4b-fb79-457a-8caf-fa2dd0c1f7bf",
   "metadata": {},
   "outputs": [
    {
     "data": {
      "text/plain": [
       "[('good', 'JJ'),\n",
       " ('but', 'CC'),\n",
       " ('need', 'VBP'),\n",
       " ('updates', 'NNS'),\n",
       " ('and', 'CC'),\n",
       " ('improvements', 'NNS')]"
      ]
     },
     "execution_count": 5,
     "metadata": {},
     "output_type": "execute_result"
    }
   ],
   "source": [
    "nltk.pos_tag(reviews_token[0])"
   ]
  },
  {
   "cell_type": "code",
   "execution_count": 6,
   "id": "50cf94bb-d429-4c89-8d25-e2006cd56b4d",
   "metadata": {},
   "outputs": [],
   "source": [
    "reviews_tagged=[nltk.pos_tag(tokens) for tokens in reviews_token]"
   ]
  },
  {
   "cell_type": "code",
   "execution_count": 7,
   "id": "6b1cf1eb-6436-4c6f-977a-9e88d7e00d8b",
   "metadata": {},
   "outputs": [
    {
     "data": {
      "text/plain": [
       "[('good', 'JJ'),\n",
       " ('but', 'CC'),\n",
       " ('need', 'VBP'),\n",
       " ('updates', 'NNS'),\n",
       " ('and', 'CC'),\n",
       " ('improvements', 'NNS')]"
      ]
     },
     "execution_count": 7,
     "metadata": {},
     "output_type": "execute_result"
    }
   ],
   "source": [
    "reviews_tagged[0]"
   ]
  },
  {
   "cell_type": "markdown",
   "id": "1e1cac19-9782-4ebd-9be3-754f457ad234",
   "metadata": {},
   "source": [
    "#### 5. For the topic model, we should  want to include only nouns.\n",
    " - Find out all the POS tags that correspond to nouns.\n",
    " - Limit the data to only terms with these tags."
   ]
  },
  {
   "cell_type": "code",
   "execution_count": 8,
   "id": "18f2e372-cff1-4110-89c4-c2b7e5540db9",
   "metadata": {},
   "outputs": [
    {
     "name": "stdout",
     "output_type": "stream",
     "text": [
      "$: dollar\n",
      "    $ -$ --$ A$ C$ HK$ M$ NZ$ S$ U.S.$ US$\n",
      "'': closing quotation mark\n",
      "    ' ''\n",
      "(: opening parenthesis\n",
      "    ( [ {\n",
      "): closing parenthesis\n",
      "    ) ] }\n",
      ",: comma\n",
      "    ,\n",
      "--: dash\n",
      "    --\n",
      ".: sentence terminator\n",
      "    . ! ?\n",
      ":: colon or ellipsis\n",
      "    : ; ...\n",
      "CC: conjunction, coordinating\n",
      "    & 'n and both but either et for less minus neither nor or plus so\n",
      "    therefore times v. versus vs. whether yet\n",
      "CD: numeral, cardinal\n",
      "    mid-1890 nine-thirty forty-two one-tenth ten million 0.5 one forty-\n",
      "    seven 1987 twenty '79 zero two 78-degrees eighty-four IX '60s .025\n",
      "    fifteen 271,124 dozen quintillion DM2,000 ...\n",
      "DT: determiner\n",
      "    all an another any both del each either every half la many much nary\n",
      "    neither no some such that the them these this those\n",
      "EX: existential there\n",
      "    there\n",
      "FW: foreign word\n",
      "    gemeinschaft hund ich jeux habeas Haementeria Herr K'ang-si vous\n",
      "    lutihaw alai je jour objets salutaris fille quibusdam pas trop Monte\n",
      "    terram fiche oui corporis ...\n",
      "IN: preposition or conjunction, subordinating\n",
      "    astride among uppon whether out inside pro despite on by throughout\n",
      "    below within for towards near behind atop around if like until below\n",
      "    next into if beside ...\n",
      "JJ: adjective or numeral, ordinal\n",
      "    third ill-mannered pre-war regrettable oiled calamitous first separable\n",
      "    ectoplasmic battery-powered participatory fourth still-to-be-named\n",
      "    multilingual multi-disciplinary ...\n",
      "JJR: adjective, comparative\n",
      "    bleaker braver breezier briefer brighter brisker broader bumper busier\n",
      "    calmer cheaper choosier cleaner clearer closer colder commoner costlier\n",
      "    cozier creamier crunchier cuter ...\n",
      "JJS: adjective, superlative\n",
      "    calmest cheapest choicest classiest cleanest clearest closest commonest\n",
      "    corniest costliest crassest creepiest crudest cutest darkest deadliest\n",
      "    dearest deepest densest dinkiest ...\n",
      "LS: list item marker\n",
      "    A A. B B. C C. D E F First G H I J K One SP-44001 SP-44002 SP-44005\n",
      "    SP-44007 Second Third Three Two * a b c d first five four one six three\n",
      "    two\n",
      "MD: modal auxiliary\n",
      "    can cannot could couldn't dare may might must need ought shall should\n",
      "    shouldn't will would\n",
      "NN: noun, common, singular or mass\n",
      "    common-carrier cabbage knuckle-duster Casino afghan shed thermostat\n",
      "    investment slide humour falloff slick wind hyena override subhumanity\n",
      "    machinist ...\n",
      "NNP: noun, proper, singular\n",
      "    Motown Venneboerger Czestochwa Ranzer Conchita Trumplane Christos\n",
      "    Oceanside Escobar Kreisler Sawyer Cougar Yvette Ervin ODI Darryl CTCA\n",
      "    Shannon A.K.C. Meltex Liverpool ...\n",
      "NNPS: noun, proper, plural\n",
      "    Americans Americas Amharas Amityvilles Amusements Anarcho-Syndicalists\n",
      "    Andalusians Andes Andruses Angels Animals Anthony Antilles Antiques\n",
      "    Apache Apaches Apocrypha ...\n",
      "NNS: noun, common, plural\n",
      "    undergraduates scotches bric-a-brac products bodyguards facets coasts\n",
      "    divestitures storehouses designs clubs fragrances averages\n",
      "    subjectivists apprehensions muses factory-jobs ...\n",
      "PDT: pre-determiner\n",
      "    all both half many quite such sure this\n",
      "POS: genitive marker\n",
      "    ' 's\n",
      "PRP: pronoun, personal\n",
      "    hers herself him himself hisself it itself me myself one oneself ours\n",
      "    ourselves ownself self she thee theirs them themselves they thou thy us\n",
      "PRP$: pronoun, possessive\n",
      "    her his mine my our ours their thy your\n",
      "RB: adverb\n",
      "    occasionally unabatingly maddeningly adventurously professedly\n",
      "    stirringly prominently technologically magisterially predominately\n",
      "    swiftly fiscally pitilessly ...\n",
      "RBR: adverb, comparative\n",
      "    further gloomier grander graver greater grimmer harder harsher\n",
      "    healthier heavier higher however larger later leaner lengthier less-\n",
      "    perfectly lesser lonelier longer louder lower more ...\n",
      "RBS: adverb, superlative\n",
      "    best biggest bluntest earliest farthest first furthest hardest\n",
      "    heartiest highest largest least less most nearest second tightest worst\n",
      "RP: particle\n",
      "    aboard about across along apart around aside at away back before behind\n",
      "    by crop down ever fast for forth from go high i.e. in into just later\n",
      "    low more off on open out over per pie raising start teeth that through\n",
      "    under unto up up-pp upon whole with you\n",
      "SYM: symbol\n",
      "    % & ' '' ''. ) ). * + ,. < = > @ A[fj] U.S U.S.S.R * ** ***\n",
      "TO: \"to\" as preposition or infinitive marker\n",
      "    to\n",
      "UH: interjection\n",
      "    Goodbye Goody Gosh Wow Jeepers Jee-sus Hubba Hey Kee-reist Oops amen\n",
      "    huh howdy uh dammit whammo shucks heck anyways whodunnit honey golly\n",
      "    man baby diddle hush sonuvabitch ...\n",
      "VB: verb, base form\n",
      "    ask assemble assess assign assume atone attention avoid bake balkanize\n",
      "    bank begin behold believe bend benefit bevel beware bless boil bomb\n",
      "    boost brace break bring broil brush build ...\n",
      "VBD: verb, past tense\n",
      "    dipped pleaded swiped regummed soaked tidied convened halted registered\n",
      "    cushioned exacted snubbed strode aimed adopted belied figgered\n",
      "    speculated wore appreciated contemplated ...\n",
      "VBG: verb, present participle or gerund\n",
      "    telegraphing stirring focusing angering judging stalling lactating\n",
      "    hankerin' alleging veering capping approaching traveling besieging\n",
      "    encrypting interrupting erasing wincing ...\n",
      "VBN: verb, past participle\n",
      "    multihulled dilapidated aerosolized chaired languished panelized used\n",
      "    experimented flourished imitated reunifed factored condensed sheared\n",
      "    unsettled primed dubbed desired ...\n",
      "VBP: verb, present tense, not 3rd person singular\n",
      "    predominate wrap resort sue twist spill cure lengthen brush terminate\n",
      "    appear tend stray glisten obtain comprise detest tease attract\n",
      "    emphasize mold postpone sever return wag ...\n",
      "VBZ: verb, present tense, 3rd person singular\n",
      "    bases reconstructs marks mixes displeases seals carps weaves snatches\n",
      "    slumps stretches authorizes smolders pictures emerges stockpiles\n",
      "    seduces fizzes uses bolsters slaps speaks pleads ...\n",
      "WDT: WH-determiner\n",
      "    that what whatever which whichever\n",
      "WP: WH-pronoun\n",
      "    that what whatever whatsoever which who whom whosoever\n",
      "WP$: WH-pronoun, possessive\n",
      "    whose\n",
      "WRB: Wh-adverb\n",
      "    how however whence whenever where whereby whereever wherein whereof why\n",
      "``: opening quotation mark\n",
      "    ` ``\n"
     ]
    }
   ],
   "source": [
    "nltk.help.upenn_tagset()"
   ]
  },
  {
   "cell_type": "code",
   "execution_count": 9,
   "id": "bec28a5a-9c1e-41a2-9433-6e69eb452f70",
   "metadata": {},
   "outputs": [
    {
     "data": {
      "text/plain": [
       "[('updates', 'NNS'), ('improvements', 'NNS')]"
      ]
     },
     "execution_count": 9,
     "metadata": {},
     "output_type": "execute_result"
    }
   ],
   "source": [
    "reviews_noun=[]\n",
    "for sent in reviews_tagged:\n",
    "    reviews_noun.append([token for token in sent if re.search(\"NN.*\",token[1])])\n",
    "reviews_noun[0]\n"
   ]
  },
  {
   "cell_type": "code",
   "execution_count": 10,
   "id": "f92a87f7-1269-49e3-92a3-831a4edfac64",
   "metadata": {},
   "outputs": [
    {
     "data": {
      "text/plain": [
       "[('mobile', 'NN'),\n",
       " ('i', 'NN'),\n",
       " ('battery', 'NN'),\n",
       " ('hell', 'NN'),\n",
       " ('backup', 'NN'),\n",
       " ('hours', 'NNS'),\n",
       " ('uses', 'NNS'),\n",
       " ('idle', 'NN'),\n",
       " ('discharged.this', 'NN'),\n",
       " ('lie', 'NN'),\n",
       " ('amazon', 'NN'),\n",
       " ('lenove', 'NN'),\n",
       " ('battery', 'NN'),\n",
       " ('charger', 'NN'),\n",
       " ('hours', 'NNS'),\n",
       " ('don', 'NN')]"
      ]
     },
     "execution_count": 10,
     "metadata": {},
     "output_type": "execute_result"
    }
   ],
   "source": [
    "reviews_noun[1]"
   ]
  },
  {
   "cell_type": "code",
   "execution_count": 11,
   "id": "27dfd4b4-1fc3-4e0d-8bc7-91f5480d7c24",
   "metadata": {},
   "outputs": [
    {
     "name": "stdout",
     "output_type": "stream",
     "text": [
      "'updates'\n",
      "'NNS'\n"
     ]
    }
   ],
   "source": [
    "pprint(reviews_noun[0][0][0])\n",
    "pprint(reviews_noun[0][0][1])"
   ]
  },
  {
   "cell_type": "markdown",
   "id": "879125ac-7815-48fe-acc8-586f4812b4c4",
   "metadata": {},
   "source": [
    "#### 6. Lemmatize. \n",
    " - Different forms of the terms need to be treated as one.\n",
    " - No need to provide POS tag to lemmatizer for now."
   ]
  },
  {
   "cell_type": "code",
   "execution_count": 12,
   "id": "f10de531-1d81-4409-96db-da7f9a7d7076",
   "metadata": {},
   "outputs": [],
   "source": [
    "lemm= WordNetLemmatizer()\n",
    "reviews_lemm=[]   \n",
    "for sent in reviews_noun:\n",
    "    reviews_lemm.append([lemm.lemmatize(word[0]) for word in sent])"
   ]
  },
  {
   "cell_type": "code",
   "execution_count": 13,
   "id": "5fdbf434-b0c0-4341-85e1-5a56281fba41",
   "metadata": {},
   "outputs": [
    {
     "data": {
      "text/plain": [
       "['update', 'improvement']"
      ]
     },
     "execution_count": 13,
     "metadata": {},
     "output_type": "execute_result"
    }
   ],
   "source": [
    "reviews_lemm[0]"
   ]
  },
  {
   "cell_type": "markdown",
   "id": "eb3a57ed-62fe-4115-8889-81a241d20580",
   "metadata": {},
   "source": [
    "#### 7. Remove stopwords and punctuation (if there are any). "
   ]
  },
  {
   "cell_type": "code",
   "execution_count": 14,
   "id": "2eb8e0a3-c7fe-49d1-b6c7-bf625f069038",
   "metadata": {},
   "outputs": [],
   "source": [
    "stop_nltk=stopwords.words(\"english\")"
   ]
  },
  {
   "cell_type": "code",
   "execution_count": 15,
   "id": "3ed901e8-d706-4e01-9dc3-366dd568b16e",
   "metadata": {},
   "outputs": [],
   "source": [
    "stop_updated=stop_nltk + list(punctuation) + [\"...\"] + [\"..\"]\n",
    "reviews_sw_removed=[]\n",
    "for sent in reviews_lemm:\n",
    "    reviews_sw_removed.append([term for term in sent if term not in stop_updated])"
   ]
  },
  {
   "cell_type": "code",
   "execution_count": 16,
   "id": "a8ba7d0b-4566-4571-87e6-91704f8c1c9a",
   "metadata": {},
   "outputs": [
    {
     "data": {
      "text/plain": [
       "['mobile',\n",
       " 'battery',\n",
       " 'hell',\n",
       " 'backup',\n",
       " 'hour',\n",
       " 'us',\n",
       " 'idle',\n",
       " 'discharged.this',\n",
       " 'lie',\n",
       " 'amazon',\n",
       " 'lenove',\n",
       " 'battery',\n",
       " 'charger',\n",
       " 'hour']"
      ]
     },
     "execution_count": 16,
     "metadata": {},
     "output_type": "execute_result"
    }
   ],
   "source": [
    "reviews_sw_removed[1]"
   ]
  },
  {
   "cell_type": "markdown",
   "id": "702e3b89-9e1b-485f-9b23-98a71ba8ccce",
   "metadata": {},
   "source": [
    "#### 8. Create a topic model using LDA on the cleaned up data with 12 topics.\n",
    " - Print out the top terms for each topic.\n",
    " - What is the coherence of the model with the c_v metric?"
   ]
  },
  {
   "cell_type": "markdown",
   "id": "743c333e-9ccb-4500-9626-6cd2b6edbded",
   "metadata": {},
   "source": [
    "#### Use gensim"
   ]
  },
  {
   "cell_type": "code",
   "execution_count": 17,
   "id": "a6f4795a-e8fd-4bd6-92cd-e1658722a3c7",
   "metadata": {},
   "outputs": [],
   "source": [
    "import gensim\n",
    "import gensim.corpora as corpora\n",
    "from gensim.models import CoherenceModel\n",
    "from gensim.models import ldamodel"
   ]
  },
  {
   "cell_type": "code",
   "execution_count": 18,
   "id": "4cde6631-d448-4040-b777-598477265539",
   "metadata": {},
   "outputs": [],
   "source": [
    "id2word = corpora.Dictionary(reviews_sw_removed)\n",
    "texts = reviews_sw_removed\n",
    "corpus = [id2word.doc2bow(text) for text in texts]"
   ]
  },
  {
   "cell_type": "code",
   "execution_count": 19,
   "id": "9421cf02-e42e-420d-b231-38183ab5004f",
   "metadata": {},
   "outputs": [
    {
     "name": "stdout",
     "output_type": "stream",
     "text": [
      "[(36, 1), (143, 1), (314, 1), (415, 1), (416, 1)]\n"
     ]
    }
   ],
   "source": [
    "print(corpus[200])"
   ]
  },
  {
   "cell_type": "code",
   "execution_count": 20,
   "id": "69a6ec4f-27ba-48a7-9293-c4a1391bac07",
   "metadata": {},
   "outputs": [],
   "source": [
    "lda_model= gensim.models.ldamodel.LdaModel(corpus=corpus,\n",
    "                                           id2word=id2word,\n",
    "                                           num_topics=12,\n",
    "                                           random_state=42,\n",
    "                                           passes=10,\n",
    "                                           per_word_topics=True)"
   ]
  },
  {
   "cell_type": "code",
   "execution_count": 21,
   "id": "711ce9a0-c87c-4e74-b837-0cd530d2af69",
   "metadata": {},
   "outputs": [
    {
     "name": "stdout",
     "output_type": "stream",
     "text": [
      "[(0,\n",
      "  '0.138*\"mobile\" + 0.040*\"call\" + 0.036*\"screen\" + 0.031*\"feature\" + '\n",
      "  '0.030*\"option\" + 0.020*\"music\" + 0.017*\"software\" + 0.016*\"app\" + '\n",
      "  '0.015*\"video\" + 0.015*\"card\"'),\n",
      " (1,\n",
      "  '0.151*\"money\" + 0.128*\"....\" + 0.071*\"waste\" + 0.056*\"value\" + '\n",
      "  '0.046*\"glass\" + 0.038*\"speaker\" + 0.024*\"gorilla\" + 0.022*\"set\" + '\n",
      "  '0.022*\"ok\" + 0.020*\"piece\"'),\n",
      " (2,\n",
      "  '0.216*\"note\" + 0.113*\"k8\" + 0.090*\"lenovo\" + 0.030*\"sound\" + 0.023*\"dolby\" '\n",
      "  '+ 0.020*\"killer\" + 0.018*\"gallery\" + 0.018*\"system\" + 0.018*\"atmos\" + '\n",
      "  '0.018*\"excellent\"'),\n",
      " (3,\n",
      "  '0.078*\"phone\" + 0.040*\"day\" + 0.038*\"amazon\" + 0.035*\"service\" + '\n",
      "  '0.034*\"issue\" + 0.027*\"time\" + 0.027*\"lenovo\" + 0.026*\"battery\" + '\n",
      "  '0.024*\"month\" + 0.023*\"device\"'),\n",
      " (4,\n",
      "  '0.280*\"product\" + 0.176*\"problem\" + 0.080*\"network\" + 0.075*\"issue\" + '\n",
      "  '0.066*\"heating\" + 0.021*\"jio\" + 0.021*\"sim\" + 0.019*\"volta\" + '\n",
      "  '0.010*\"connection\" + 0.009*\"signal\"'),\n",
      " (5,\n",
      "  '0.093*\"heat\" + 0.070*\".....\" + 0.052*\"processor\" + 0.038*\"everything\" + '\n",
      "  '0.038*\"budget\" + 0.031*\"....\" + 0.030*\"core\" + 0.025*\"display\" + '\n",
      "  '0.017*\"cell\" + 0.016*\"hr\"'),\n",
      " (6,\n",
      "  '0.126*\"range\" + 0.075*\"price\" + 0.046*\"work\" + 0.038*\"mobile\" + '\n",
      "  '0.038*\"specification\" + 0.035*\"super\" + 0.034*\"......\" + 0.030*\"bit\" + '\n",
      "  '0.026*\"cam\" + 0.025*\"k\"'),\n",
      " (7,\n",
      "  '0.118*\"charger\" + 0.059*\"hai\" + 0.056*\"handset\" + 0.037*\"box\" + '\n",
      "  '0.029*\"turbo\" + 0.027*\"charge\" + 0.021*\"plz\" + 0.016*\"hi\" + 0.016*\"cable\" + '\n",
      "  '0.013*\"bhi\"'),\n",
      " (8,\n",
      "  '0.242*\"price\" + 0.065*\"superb\" + 0.046*\"buy\" + 0.045*\"headphone\" + '\n",
      "  '0.039*\"thanks\" + 0.036*\"worth\" + 0.034*\"feature\" + 0.029*\"smartphone\" + '\n",
      "  '0.026*\"expectation\" + 0.017*\"offer\"'),\n",
      " (9,\n",
      "  '0.158*\"camera\" + 0.136*\"battery\" + 0.064*\"quality\" + 0.061*\"phone\" + '\n",
      "  '0.045*\"performance\" + 0.029*\"backup\" + 0.019*\"issue\" + 0.017*\"life\" + '\n",
      "  '0.017*\"day\" + 0.015*\"mode\"'),\n",
      " (10,\n",
      "  '0.548*\"phone\" + 0.021*\"h\" + 0.014*\"ram\" + 0.013*\"hang\" + 0.012*\"gb\" + '\n",
      "  '0.011*\"game\" + 0.010*\"ho\" + 0.007*\"u\" + 0.006*\"lot\" + 0.006*\"interface\"'),\n",
      " (11,\n",
      "  '0.106*\"feature\" + 0.061*\"delivery\" + 0.060*\"time\" + 0.035*\"star\" + '\n",
      "  '0.034*\"experience\" + 0.029*\"camera\" + 0.023*\"condition\" + 0.018*\"cost\" + '\n",
      "  '0.018*\"class\" + 0.017*\"awesome\"')]\n"
     ]
    }
   ],
   "source": [
    "pprint(lda_model.print_topics())"
   ]
  },
  {
   "cell_type": "code",
   "execution_count": null,
   "id": "22341d8f-0adb-444d-ba36-82a83fd0a4bb",
   "metadata": {},
   "outputs": [],
   "source": [
    "# Compute coherence score\n",
    "coherence_model_lda=CoherenceModel(model=lda_model,texts=reviews_sw_removed,dictionary=id2word,coherence='c_v')\n",
    "coherence_lda=coherence_model_lda.get_coherence()\n",
    "print('\\nCoherence Score: ',coherence_lda)"
   ]
  },
  {
   "cell_type": "markdown",
   "id": "5f65c06d-5c3c-4dba-b085-f352c7d3682f",
   "metadata": {},
   "source": [
    "#### Analyze the topics through the business lens.\n",
    " - Determine which of the topics can be combined."
   ]
  },
  {
   "cell_type": "markdown",
   "id": "e6596d04-60a5-482c-ab16-b2eb7edbc632",
   "metadata": {},
   "source": [
    "##### If a pair of topics has very similar top terms, they are very close and can be combined"
   ]
  },
  {
   "cell_type": "markdown",
   "id": "2631e636-c6a4-4fb7-b0ed-f2230e130c9f",
   "metadata": {},
   "source": [
    "##### Looking at the topic and each terms the following can be combined - \n",
    " - Topic 1,6,8 talks about pricing\n",
    " - Topic 9,10 mentions about phone performance\n",
    " - Topic 4,5 talsk about phone heating "
   ]
  },
  {
   "cell_type": "markdown",
   "id": "924db180-6506-4500-945f-1e281585a14f",
   "metadata": {},
   "source": [
    "#### Create topic model using LDA with what you think is the optimal number of topics\n",
    "- What is the coherence of the model?"
   ]
  },
  {
   "cell_type": "code",
   "execution_count": null,
   "id": "4939aec8-6d24-48e9-919f-6f0de306681c",
   "metadata": {},
   "outputs": [],
   "source": [
    "# Build LDA model\n",
    "\n",
    "lda_model8 = gensim.models.ldamodel.LdaModel(corpus=corpus,\n",
    "                                            id2word=id2word,\n",
    "                                            num_topics=8,\n",
    "                                            random_state=42,\n",
    "                                            passes=10,\n",
    "                                            per_word_topics=True))"
   ]
  },
  {
   "cell_type": "code",
   "execution_count": null,
   "id": "ff37cefb-a5b9-4bff-a91c-91c3f7f967b7",
   "metadata": {},
   "outputs": [],
   "source": [
    "pprint(lda_model8.print_topics())"
   ]
  },
  {
   "cell_type": "code",
   "execution_count": null,
   "id": "a4e398c6-1ad3-4cf7-ba8f-7c476e8a597f",
   "metadata": {},
   "outputs": [],
   "source": [
    "# Compute coherence score\n",
    "coherence_model_lda=CoherenceModel(model=lda_model8,texts=reviews_sw_removed,dictionary=id2word,coherence='c_v')\n",
    "coherence_lda=coherence_model_lda.get_coherence()\n",
    "print('\\nCoherence Score: ',coherence_lda)"
   ]
  },
  {
   "cell_type": "markdown",
   "id": "678652f5-5c5b-4da1-9d72-d6d24f603572",
   "metadata": {},
   "source": [
    "##### The business should  be able to interpret the topics.\n",
    " - Name each of the identified topics.\n",
    " - Create a table with the topic name and the top 10 terms in each to present to the  business."
   ]
  },
  {
   "cell_type": "code",
   "execution_count": null,
   "id": "8cd4e132-e2d2-4c1c-9608-7708fce4af0b",
   "metadata": {},
   "outputs": [],
   "source": [
    "x=lda_model8.show_topics(formatted=False)\n",
    "topic_words=[(tp[0],[wd[0] for wd in tp[1]]) for tp in x]"
   ]
  },
  {
   "cell_type": "code",
   "execution_count": null,
   "id": "770bbc9b-586b-455e-8110-93dc0da69e9b",
   "metadata": {},
   "outputs": [],
   "source": [
    "for topic,words in topics_words:\n",
    "    print(str(topic)+ \"::\" + str(words))\n",
    "print()"
   ]
  },
  {
   "cell_type": "code",
   "execution_count": null,
   "id": "fc76fdc6-2818-4d3f-bb71-75b8f20a8464",
   "metadata": {},
   "outputs": [],
   "source": []
  },
  {
   "cell_type": "code",
   "execution_count": null,
   "id": "cb641ce2-a237-4074-9d5a-ffefe94ba270",
   "metadata": {},
   "outputs": [],
   "source": []
  }
 ],
 "metadata": {
  "kernelspec": {
   "display_name": "Python 3 (ipykernel)",
   "language": "python",
   "name": "python3"
  },
  "language_info": {
   "codemirror_mode": {
    "name": "ipython",
    "version": 3
   },
   "file_extension": ".py",
   "mimetype": "text/x-python",
   "name": "python",
   "nbconvert_exporter": "python",
   "pygments_lexer": "ipython3",
   "version": "3.8.11"
  }
 },
 "nbformat": 4,
 "nbformat_minor": 5
}
